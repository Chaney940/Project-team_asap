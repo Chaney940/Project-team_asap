{
 "cells": [
  {
   "cell_type": "markdown",
   "metadata": {},
   "source": [
    "# Test Normal model implementation"
   ]
  },
  {
   "cell_type": "code",
   "execution_count": 1,
   "metadata": {
    "collapsed": true
   },
   "outputs": [],
   "source": [
    "import numpy as np\n",
    "from option_models import basket\n",
    "from option_models import basket_Levy"
   ]
  },
  {
   "cell_type": "code",
   "execution_count": 14,
   "metadata": {},
   "outputs": [
    {
     "data": {
      "text/plain": [
       "<module 'option_models.basket' from 'C:\\\\Users\\\\lantm\\\\Documents\\\\GitHub\\\\hw3-team_87\\\\option_models\\\\basket.py'>"
      ]
     },
     "execution_count": 14,
     "metadata": {},
     "output_type": "execute_result"
    }
   ],
   "source": [
    "### only run this when you changed the class definition\n",
    "import imp\n",
    "imp.reload(basket)"
   ]
  },
  {
   "cell_type": "code",
   "execution_count": 2,
   "metadata": {},
   "outputs": [
    {
     "name": "stdout",
     "output_type": "stream",
     "text": [
      "[1 0 0 0]\n",
      "7.11711843013\n",
      "7.08449424783\n"
     ]
    }
   ],
   "source": [
    "# A trivial test case 1: \n",
    "# one asset have 100% weight (the others zero)\n",
    "# the case should be equivalent to the BSM or Normal model price\n",
    "\n",
    "spot = np.ones(4) * 100\n",
    "vol = np.ones(4) * 0.2\n",
    "weights = np.array([1, 0, 0, 0])\n",
    "divr = np.zeros(4)\n",
    "intr = 0\n",
    "cor_m = 0.8*np.identity(4) + 0.2*np.ones((4,4))\n",
    "texp = 1\n",
    "strike = 102\n",
    "\n",
    "print(weights)\n",
    "\n",
    "a=basket.basket_price_mc(strike, spot, vol, weights, texp, cor_m, bsm=True)\n",
    "b=basket_Levy.basket_price_Levy(strike, spot, vol, weights, texp, cor_m)\n",
    "print(a)\n",
    "print(b)\n",
    "# write your own normal model pricing here and compare\n",
    "# do the similar for BSM model"
   ]
  },
  {
   "cell_type": "code",
   "execution_count": 3,
   "metadata": {},
   "outputs": [
    {
     "name": "stdout",
     "output_type": "stream",
     "text": [
      "[[ 1.      0.9999  0.9999  0.9999]\n",
      " [ 0.9999  1.      0.9999  0.9999]\n",
      " [ 0.9999  0.9999  1.      0.9999]\n",
      " [ 0.9999  0.9999  0.9999  1.    ]]\n",
      "7.06142304636\n",
      "7.0841950358\n"
     ]
    }
   ],
   "source": [
    "# A trivial test case 2\n",
    "\n",
    "# all assets almost perfectly correlated:\n",
    "# the case should be equivalent to the BSM or Normal model price\n",
    "\n",
    "spot = np.ones(4) * 100\n",
    "vol = np.ones(4) * 0.2\n",
    "weights = np.ones(4) * 0.25\n",
    "divr = np.zeros(4)\n",
    "intr = 0\n",
    "cor_m = 0.0001*np.identity(4) + 0.9999*np.ones((4,4))\n",
    "texp = 1\n",
    "strike = 102\n",
    "\n",
    "print( cor_m )\n",
    "\n",
    "a=basket.basket_price_mc(strike, spot, vol, weights, texp, cor_m, bsm=True)\n",
    "b=basket_Levy.basket_price_Levy(strike, spot, vol, weights, texp, cor_m)\n",
    "print(a)\n",
    "print(b)\n",
    "# write your own normal model pricing here and compare\n",
    "# do the similar for BSM model"
   ]
  },
  {
   "cell_type": "code",
   "execution_count": null,
   "metadata": {
    "collapsed": true
   },
   "outputs": [],
   "source": []
  },
  {
   "cell_type": "code",
   "execution_count": 4,
   "metadata": {
    "collapsed": true
   },
   "outputs": [],
   "source": [
    "# A test set for spread option\n",
    "\n",
    "spot = np.array([100, 96])\n",
    "vol = np.array([0.2, 0.1])\n",
    "weights = np.array([1, -1])\n",
    "divr = np.array([1, 1])*0.05\n",
    "intr = 0.1\n",
    "cor_m = np.array([[1, 0.5], [0.5, 1]])\n",
    "texp = 1\n",
    "strike = 0\n",
    "price = 8.5132252"
   ]
  },
  {
   "cell_type": "code",
   "execution_count": 5,
   "metadata": {},
   "outputs": [
    {
     "name": "stdout",
     "output_type": "stream",
     "text": [
      "8.5253941742\n",
      "3.804917698\n"
     ]
    },
    {
     "name": "stderr",
     "output_type": "stream",
     "text": [
      "C:\\Users\\lantm\\Documents\\project\\option_models\\basket_Levy.py:25: RuntimeWarning: divide by zero encountered in log\n",
      "  d1 = (m - np.log(strike) + v2) / v\n"
     ]
    }
   ],
   "source": [
    "# MC price based on normal model\n",
    "# make sure that the prices are similar\\\n",
    "\n",
    "np.random.seed(123456)\n",
    "a=basket.basket_price_mc(strike, spot, vol, weights, texp, cor_m, intr=intr, divr=divr, bsm=True)\n",
    "b=basket_Levy.basket_price_Levy(strike, spot, vol, weights, texp, cor_m, intr=intr, divr=divr)\n",
    "print(a)\n",
    "print(b)"
   ]
  },
  {
   "cell_type": "code",
   "execution_count": null,
   "metadata": {
    "collapsed": true
   },
   "outputs": [],
   "source": []
  },
  {
   "cell_type": "code",
   "execution_count": 6,
   "metadata": {
    "collapsed": true
   },
   "outputs": [],
   "source": [
    "# A test set for basket option\n",
    "spot = np.ones(4) * 100\n",
    "vol = np.ones(4) * 0.4\n",
    "weights = np.ones(4) * 0.25\n",
    "divr = np.zeros(4)\n",
    "intr = 0\n",
    "cor_m = 0.5*np.identity(4) + 0.5*np.ones((4,4))\n",
    "texp = 5\n",
    "strike = 100\n",
    "price = 28.0073695"
   ]
  },
  {
   "cell_type": "code",
   "execution_count": 7,
   "metadata": {},
   "outputs": [
    {
     "name": "stdout",
     "output_type": "stream",
     "text": [
      "27.1834537155\n",
      "28.0519662142\n"
     ]
    }
   ],
   "source": [
    "# MC price based on normal model\n",
    "# make sure that the prices are similar\n",
    "\n",
    "a=basket.basket_price_mc(strike, spot, vol, weights, texp, cor_m, bsm=True)\n",
    "b=basket_Levy.basket_price_Levy(strike, spot, vol, weights, texp, cor_m)\n",
    "print(a)\n",
    "print(b)"
   ]
  },
  {
   "cell_type": "code",
   "execution_count": null,
   "metadata": {
    "collapsed": true
   },
   "outputs": [],
   "source": []
  },
  {
   "cell_type": "code",
   "execution_count": null,
   "metadata": {
    "collapsed": true
   },
   "outputs": [],
   "source": []
  }
 ],
 "metadata": {
  "anaconda-cloud": {},
  "kernelspec": {
   "display_name": "Python 3",
   "language": "python",
   "name": "python3"
  },
  "language_info": {
   "codemirror_mode": {
    "name": "ipython",
    "version": 3
   },
   "file_extension": ".py",
   "mimetype": "text/x-python",
   "name": "python",
   "nbconvert_exporter": "python",
   "pygments_lexer": "ipython3",
   "version": "3.6.1"
  }
 },
 "nbformat": 4,
 "nbformat_minor": 1
}
