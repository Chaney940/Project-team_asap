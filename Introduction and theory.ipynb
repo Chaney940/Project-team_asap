{
 "cells": [
  {
   "cell_type": "markdown",
   "metadata": {},
   "source": [
    "# Introduction"
   ]
  },
  {
   "cell_type": "markdown",
   "metadata": {},
   "source": [
    "(1) Basket Options: "
   ]
  },
  {
   "cell_type": "markdown",
   "metadata": {},
   "source": [
    "  Basket option is a type of exotic option where the underlying asset is a group of commodities, securities or currencies.With a basket option, the holder has the right to buy or sell a group of underlying assets. "
   ]
  },
  {
   "cell_type": "markdown",
   "metadata": {},
   "source": [
    "(2) Price of a basket options"
   ]
  },
  {
   "cell_type": "markdown",
   "metadata": {},
   "source": [
    "The price of the basket options is weighted average of the prices of n stocks at maturity T.\n"
   ]
  },
  {
   "cell_type": "markdown",
   "metadata": {},
   "source": [
    " The weights are usually assumed to be positive and to sum up to 1."
   ]
  },
  {
   "cell_type": "markdown",
   "metadata": {},
   "source": [
    "$$B(T) = \\sum\\limits_{i = 1}^n {{\\omega _i}{S_i}} $$"
   ]
  },
  {
   "cell_type": "markdown",
   "metadata": {},
   "source": [
    "Our task is to determine the price of a call (θ = 1) or a put (θ = −1) with strike K and maturity T on the basket."
   ]
  },
  {
   "cell_type": "markdown",
   "metadata": {},
   "source": [
    "$${P_{Basket}}(B(T),K,\\theta ) = {[\\theta （B(T) - K）]^ + }$$"
   ]
  },
  {
   "cell_type": "markdown",
   "metadata": {},
   "source": [
    "(3) Black-Scholes Method&Problems "
   ]
  },
  {
   "cell_type": "markdown",
   "metadata": {},
   "source": [
    "We price these options with the Black-Scholes Model.The stock prices are modelled by geometric Brownian motions and are therefore log-normally distributed.As the sum of log-normally distributed random variables is not log-normal, it is not possible to derive an (exact) closed-form representation of the basket call and put prices."
   ]
  },
  {
   "cell_type": "markdown",
   "metadata": {},
   "source": [
    "# Levy’s Method"
   ]
  },
  {
   "cell_type": "markdown",
   "metadata": {},
   "source": [
    "The basic idea is to approximate the distribution of the basket by a log-normal distribution $exp(X)$ with mean $M$ and variance ${V^2} - {M^2}$"
   ]
  },
  {
   "cell_type": "markdown",
   "metadata": {},
   "source": [
    "A simple approach to determine the peremeters is to use make use of the moment generating function"
   ]
  },
  {
   "cell_type": "markdown",
   "metadata": {},
   "source": [
    "$${\\psi _x}(k) = E(M{(t)^k}) = {e^{mk + \\frac{1}{2}{k^2}{v^{\\rm{2}}}}}$$"
   ]
  },
  {
   "cell_type": "markdown",
   "metadata": {},
   "source": [
    "Using the first two moments"
   ]
  },
  {
   "cell_type": "markdown",
   "metadata": {},
   "source": [
    "$$k=1： M = E(M(t)) = {e^{m + 0.5{v^{\\rm{2}}}}} \\Rightarrow m + 0.5{v^2} = \\log (M)$$"
   ]
  },
  {
   "cell_type": "markdown",
   "metadata": {},
   "source": [
    "$$k=2:E(M{(t)^2}) = {e^{2m + 2{v^{\\rm{2}}}}} \\Rightarrow 2m + 2{v^2} = \\log ({V^2})$$"
   ]
  },
  {
   "cell_type": "markdown",
   "metadata": {},
   "source": [
    "Solve the equation above"
   ]
  },
  {
   "cell_type": "markdown",
   "metadata": {},
   "source": [
    "$$m{\\rm{ = }}2\\log (M) - 0.5\\log ({V^2})$$"
   ]
  },
  {
   "cell_type": "markdown",
   "metadata": {},
   "source": [
    "$${v^2} = \\log ({V^2}) - 2\\log (M)$$"
   ]
  },
  {
   "cell_type": "markdown",
   "metadata": {},
   "source": [
    "$$M \\equiv E(B(T)) = \\sum\\limits_{i = 1}^n {{w_i}{F_i}}$$\n"
   ]
  },
  {
   "cell_type": "markdown",
   "metadata": {},
   "source": [
    "$${V^2} \\equiv E(B{(T)^2}){\\rm{ = }}\\sum\\limits_{i = 1}^n {{w_i}{w_{\\rm{j}}}{F_{\\rm{i}}}{F_{\\rm{j}}}} {{\\mathop{\\rm e}\\nolimits} ^{{\\sigma _i}{\\sigma _j}{\\rho _{ij}}T}}$$"
   ]
  },
  {
   "cell_type": "markdown",
   "metadata": {},
   "source": [
    "Result in"
   ]
  },
  {
   "cell_type": "markdown",
   "metadata": {},
   "source": [
    "$$E(B(T)){\\rm{ = }}E({e^x}) = {e^{m + 0.5{v^{\\rm{2}}}}}$$"
   ]
  },
  {
   "cell_type": "markdown",
   "metadata": {},
   "source": [
    "$$E({B^2}(T)){\\rm{ = }}E({e^{2x}}) = {e^{2m + 2{v^{\\rm{2}}}}}$$\n"
   ]
  },
  {
   "cell_type": "markdown",
   "metadata": {},
   "source": [
    "where $X$ is a normally distributed random variable with mean $m$ and variance $v^2$"
   ]
  },
  {
   "cell_type": "markdown",
   "metadata": {},
   "source": [
    "The basket option price is now approximated by"
   ]
  },
  {
   "cell_type": "markdown",
   "metadata": {},
   "source": [
    "$${V_{Basket}}\\left( T \\right) \\approx Df\\left( T \\right)\\left( {MN({d_1}) - KN({d_2})} \\right)$$"
   ]
  },
  {
   "cell_type": "markdown",
   "metadata": {},
   "source": [
    "$${d_1} = \\frac{{m - \\ln (K) + {v^2}}}{v}, {d_2} = {d_1} - v $$"
   ]
  }
 ],
 "metadata": {
  "kernelspec": {
   "display_name": "Python 3",
   "language": "python",
   "name": "python3"
  },
  "language_info": {
   "codemirror_mode": {
    "name": "ipython",
    "version": 3
   },
   "file_extension": ".py",
   "mimetype": "text/x-python",
   "name": "python",
   "nbconvert_exporter": "python",
   "pygments_lexer": "ipython3",
   "version": "3.6.1"
  }
 },
 "nbformat": 4,
 "nbformat_minor": 2
}
